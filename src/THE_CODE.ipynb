{
 "cells": [
  {
   "cell_type": "code",
   "execution_count": 22,
   "id": "e8e2bb34",
   "metadata": {},
   "outputs": [],
   "source": [
    "import pandas as pd \n",
    "df=pd.read_csv(\"../data/merged_urls.csv\")\n",
    "#it just says ki go ek level upar to access the csv file"
   ]
  },
  {
   "cell_type": "code",
   "execution_count": null,
   "id": "854707a7",
   "metadata": {},
   "outputs": [],
   "source": [
    "import re\n",
    "def extract_features(url):\n",
    "    feature={}\n",
    "    \n",
    "    #Feature 1\n",
    "    if re.match(r\"http[s]?://\\d+\\.\\d+\\.\\d+\\.\\d+\",url):\n",
    "        feature['has_ip']=1\n",
    "    else:\n",
    "        feature['has_ip']=0\n",
    "    '''we check if the url consists of an IP address\n",
    "    \\d+ => more than one number '''\n",
    "    \n",
    "    #Feature 2\n",
    "    feature[\"url_len\"]=len(url)\n",
    "    '''checking the length of the url as lengthy url are often phishy'''\n",
    "    \n",
    "    #Feature 3\n",
    "    feature[\"has_@\"]=int(\"@\" in url)\n",
    "    '''it checks if url contains @ and then converts the answer to 0 or 1 so as to use it later'''\n",
    "    \n",
    "    #Feature 4\n",
    "    feature[\"has_//\"]=1 if url.find(\"//\", 8) != -1 else 0\n",
    "    '''checks if the url has // after the 8th index that is after http://'''\n",
    "    \n",
    "    \n",
    "    return feature"
   ]
  }
 ],
 "metadata": {
  "kernelspec": {
   "display_name": "venv",
   "language": "python",
   "name": "python3"
  },
  "language_info": {
   "codemirror_mode": {
    "name": "ipython",
    "version": 3
   },
   "file_extension": ".py",
   "mimetype": "text/x-python",
   "name": "python",
   "nbconvert_exporter": "python",
   "pygments_lexer": "ipython3",
   "version": "3.12.4"
  }
 },
 "nbformat": 4,
 "nbformat_minor": 5
}
