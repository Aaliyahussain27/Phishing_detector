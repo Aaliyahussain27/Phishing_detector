{
 "cells": [
  {
   "cell_type": "code",
   "execution_count": 22,
   "id": "e8e2bb34",
   "metadata": {},
   "outputs": [],
   "source": [
    "import pandas as pd \n",
    "df=pd.read_csv(\"../data/merged_urls.csv\")\n",
    "#it just says ki go ek level upar to access the csv file"
   ]
  },
  {
   "cell_type": "code",
   "execution_count": 23,
   "id": "854707a7",
   "metadata": {},
   "outputs": [
    {
     "name": "stdout",
     "output_type": "stream",
     "text": [
      "                                                     url  label  has_ip\n",
      "662                              https://196.251.83.162/      1       1\n",
      "666                              https://43.162.122.195/      1       1\n",
      "1173                                http://45.140.193.87      1       1\n",
      "1174   http://45.140.193.87/home.php?hash=10393362176...      1       1\n",
      "1571                  http://221.120.103.171/004dpd.html      1       1\n",
      "...                                                  ...    ...     ...\n",
      "51546                            http://192.169.150.169/      1       1\n",
      "53493  http://52.20.22.249:8080/BannerTool/HtmlPages/...      1       1\n",
      "63815                           http://192.168.0.1/login      1       1\n",
      "63816        http://185.244.25.151/paypal/account-update      1       1\n",
      "63817                    http://203.0.113.5/secure-login      1       1\n",
      "\n",
      "[430 rows x 3 columns]\n"
     ]
    }
   ],
   "source": [
    "import re\n",
    "def extract_features(url):\n",
    "    feature={}\n",
    "    if re.match(r\"http[s]?://\\d+\\.\\d+\\.\\d+\\.\\d+\",url):\n",
    "        feature['has_ip']=1\n",
    "    else:\n",
    "        feature['has_ip']=0\n",
    "    return feature\n",
    "#what is this?\n",
    "df_features = df['url'].apply(extract_features).apply(pd.Series)\n",
    "df = pd.concat([df, df_features], axis=1)\n",
    "#ye block \n",
    "print(df[df['has_ip'] == 1])\n"
   ]
  }
 ],
 "metadata": {
  "kernelspec": {
   "display_name": "venv",
   "language": "python",
   "name": "python3"
  },
  "language_info": {
   "codemirror_mode": {
    "name": "ipython",
    "version": 3
   },
   "file_extension": ".py",
   "mimetype": "text/x-python",
   "name": "python",
   "nbconvert_exporter": "python",
   "pygments_lexer": "ipython3",
   "version": "3.12.4"
  }
 },
 "nbformat": 4,
 "nbformat_minor": 5
}
