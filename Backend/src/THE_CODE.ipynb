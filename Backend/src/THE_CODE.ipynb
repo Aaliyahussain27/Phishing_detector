{
 "cells": [
  {
   "cell_type": "code",
   "execution_count": null,
   "id": "e8e2bb34",
   "metadata": {},
   "outputs": [],
   "source": [
    "import pandas as pd \n",
    "df = pd.read_csv(r'C:\\Users\\aaliy\\OneDrive\\Desktop\\Phishing Detector\\Backend\\data\\merged_urls.csv')\n",
    "#it just says ki go ek level upar to access the csv file"
   ]
  },
  {
   "cell_type": "code",
   "execution_count": null,
   "id": "854707a7",
   "metadata": {},
   "outputs": [],
   "source": [
    "import re\n",
    "from urllib.parse import urlparse\n",
    "def extract_features(url):\n",
    "    feature={}\n",
    "    \n",
    "    #Feature 1\n",
    "    if re.match(r\"http[s]?://\\d+\\.\\d+\\.\\d+\\.\\d+\",url):\n",
    "        feature['has_ip']=1\n",
    "    else:\n",
    "        feature['has_ip']=0\n",
    "    r'''we check if the url consists of an IP address\n",
    "    \\d+ => more than one number '''\n",
    "    \n",
    "    #Feature 2\n",
    "    feature[\"url_len\"]=len(url)\n",
    "    '''checking the length of the url as lengthy url are often phishy'''\n",
    "    \n",
    "    #Feature 3\n",
    "    feature[\"has_@\"]=int(\"@\" in url)\n",
    "    '''it checks if url contains @ and then converts the answer to 0 or 1 so as to use it later'''\n",
    "    \n",
    "    #Feature 4\n",
    "    feature[\"has_//\"]=1 if url.find(\"//\", 8) != -1 else 0\n",
    "    '''checks if the url has // after the 8th index that is after http://'''\n",
    "    \n",
    "    #Feature 5\n",
    "    domain=urlparse(url).netloc\n",
    "    feature[\"has-\"]=int('-' in domain)\n",
    "        \n",
    "    #Feature 6\n",
    "    protocol=urlparse(url).scheme\n",
    "    feature[\"has_https\"]=int(protocol==\"https\")\n",
    "    \n",
    "    #Feature 7\n",
    "    domain=urlparse(url).netloc\n",
    "    feature[\"has_http_in_domain\"]=int('http' in domain)\n",
    "    '''to check agar domain name main bhi http daala hai to seem legit'''\n",
    "    \n",
    "    #Feature 8\n",
    "    feature[\"numof_dots\"] = url.count(\".\")\n",
    "    \n",
    "    return feature"
   ]
  },
  {
   "cell_type": "code",
   "execution_count": 3,
   "id": "b5fdbafd",
   "metadata": {},
   "outputs": [],
   "source": [
    "features = df['url'].apply(extract_features).tolist()\n",
    "features_df = pd.DataFrame(features)\n",
    "features_df['label'] = df['label']"
   ]
  },
  {
   "cell_type": "code",
   "execution_count": 4,
   "id": "fcc7f491",
   "metadata": {},
   "outputs": [],
   "source": [
    "X=features_df.drop('label', axis=1)\n",
    "y=features_df['label']"
   ]
  },
  {
   "cell_type": "code",
   "execution_count": 5,
   "id": "966c56e6",
   "metadata": {},
   "outputs": [
    {
     "name": "stdout",
     "output_type": "stream",
     "text": [
      "Accuracy: 0.905\n",
      "Confusion Matrix:\n",
      " [[3180  149]\n",
      " [ 478 2793]]\n"
     ]
    }
   ],
   "source": [
    "from sklearn.linear_model import LogisticRegression\n",
    "from sklearn.model_selection import train_test_split\n",
    "from sklearn.metrics import accuracy_score, confusion_matrix\n",
    "\n",
    "X_train, X_test, y_train, y_test = train_test_split(X, y, test_size=0.33, random_state=42)\n",
    "model=LogisticRegression()\n",
    "model.fit(X_train, y_train)\n",
    "y_pred = model.predict(X_test)\n",
    "print(\"Accuracy:\", accuracy_score(y_test, y_pred))\n",
    "print(\"Confusion Matrix:\\n\", confusion_matrix(y_test, y_pred, labels=[0, 1]))\n"
   ]
  },
  {
   "cell_type": "code",
   "execution_count": 6,
   "id": "4140c4e8",
   "metadata": {},
   "outputs": [
    {
     "data": {
      "text/plain": [
       "['phishing_model.pkl']"
      ]
     },
     "execution_count": 6,
     "metadata": {},
     "output_type": "execute_result"
    }
   ],
   "source": [
    "import joblib\n",
    "joblib.dump(model, 'phishing_model.pkl')"
   ]
  }
 ],
 "metadata": {
  "kernelspec": {
   "display_name": "venv",
   "language": "python",
   "name": "python3"
  },
  "language_info": {
   "codemirror_mode": {
    "name": "ipython",
    "version": 3
   },
   "file_extension": ".py",
   "mimetype": "text/x-python",
   "name": "python",
   "nbconvert_exporter": "python",
   "pygments_lexer": "ipython3",
   "version": "3.12.4"
  }
 },
 "nbformat": 4,
 "nbformat_minor": 5
}
